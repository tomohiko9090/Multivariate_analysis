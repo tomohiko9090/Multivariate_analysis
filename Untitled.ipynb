{
 "cells": [
  {
   "cell_type": "code",
   "execution_count": 1,
   "metadata": {},
   "outputs": [
    {
     "name": "stdout",
     "output_type": "stream",
     "text": [
      "*******************************************\n",
      "Alpha            :  0.1\n",
      "Spirit size      :  0.2\n",
      "*******************************************\n",
      "Save Dir         :  None\n",
      "*******************************************\n",
      "mse              :  27.116713931898293\n"
     ]
    },
    {
     "data": {
      "image/png": "[encoded data removed]",
      "text/plain": [
       "<Figure size 432x288 with 1 Axes>"
      ]
     },
     "metadata": {},
     "output_type": "display_data"
    },
    {
     "name": "stdout",
     "output_type": "stream",
     "text": [
      "*******************************************\n",
      "Done\n",
      "*******************************************\n"
     ]
    }
   ],
   "source": [
    "import numpy as np\n",
    "import pandas as pd\n",
    "import seaborn as sns\n",
    "from matplotlib import pyplot as plt\n",
    "from sklearn import datasets\n",
    "from sklearn.model_selection import train_test_split\n",
    "from sklearn.linear_model import Lasso\n",
    "from sklearn.metrics import mean_squared_error as mse\n",
    "\n",
    "\n",
    "def load_data():\n",
    "    \"\"\"\n",
    "    Read BOSTON Data\n",
    "    :return: explain_variable(12 columns)\n",
    "             purpose variable(1D)\n",
    "    \"\"\"\n",
    "    boston = datasets.load_boston()\n",
    "    explain_variable = boston.data\n",
    "    explain_label = ['CRIM', 'ZN', 'INDUS', 'CHARS', 'NOX', 'RM',\n",
    "                     'AGE', 'DIS', 'RAD', 'TAX', 'PTRATIO', 'B', 'LSTAT']\n",
    "    explain_variable = pd.DataFrame(explain_variable,\n",
    "                                    columns=explain_label)\n",
    "    purpose_variable = boston.target\n",
    "    purpose_variable = pd.DataFrame(purpose_variable,\n",
    "                                    columns=['MEDV'])\n",
    "    return explain_variable, purpose_variable\n",
    "\n",
    "\n",
    "def standardization(data, mean=None, std=None):\n",
    "    \"\"\"\n",
    "    Standardization\n",
    "    If you do not specify mean and variance,\n",
    "    circulate it.\n",
    "    :param data: Data\n",
    "    :param mean: Mean\n",
    "    :param std: Variable\n",
    "    :return: scalar, (mean, variance)\n",
    "    \"\"\"\n",
    "    if mean is None and std is None:\n",
    "        mean = np.mean(data)\n",
    "        std = np.std(data)\n",
    "\n",
    "        standard = (data - mean) / std\n",
    "        return standard, mean, std\n",
    "    else:\n",
    "        standard = (data - mean) / std\n",
    "        return standard\n",
    "\n",
    "\n",
    "def compute_loss(ans, pred):\n",
    "    \"\"\"\n",
    "    Mean Square Error\n",
    "    :param ans: Answer\n",
    "    :param pred: Predict\n",
    "    :return: Loss\n",
    "    \"\"\"\n",
    "    return mse(ans, pred)\n",
    "\n",
    "\n",
    "def plot_graph(x, y, x_pred=None, y_pred=None, directory=None):\n",
    "    \"\"\"\n",
    "    Plot Result\n",
    "\n",
    "    :param x: train data (Explain variable)\n",
    "    :param y: train data (Purpose Variable)\n",
    "    :param x_pred: test data (Explain variable)\n",
    "    :param y_pred: test data (Purpose variable)\n",
    "    :param directory: save directory\n",
    "    :return: None\n",
    "    \"\"\"\n",
    "    sns.set()\n",
    "    plt.scatter(x, y)\n",
    "    if x_pred is not None and y_pred is not None:\n",
    "        plt.scatter(x_pred, y_pred, cmap='red')\n",
    "    else:\n",
    "        pass\n",
    "\n",
    "    plt.show()\n",
    "\n",
    "    if directory is not None:\n",
    "        plt.savefig(directory)\n",
    "    else:\n",
    "        pass\n",
    "\n",
    "\n",
    "def lasso_return(alpha, test_size,  directory):\n",
    "    \"\"\"\n",
    "    Main Processing of Lasso return\n",
    "    :param alpha: lasso return parameter\n",
    "    :param test_size: Ration of train and test\n",
    "    :param directory: graph save params\n",
    "    :return: None\n",
    "    \"\"\"\n",
    "    ex_data, pp_data = load_data()\n",
    "\n",
    "    ex_data = ex_data[['RM']]\n",
    "    medv = pp_data['MEDV']\n",
    "\n",
    "    # Spirit Train and Test\n",
    "    ex_train, ex_test, medv_train, medv_test \\\n",
    "        = train_test_split(ex_data, medv,\n",
    "                           test_size=test_size,\n",
    "                           random_state=0)\n",
    "\n",
    "    # Standardization\n",
    "    ex_train_scalar, ex_mean, ex_std = \\\n",
    "        standardization(ex_train, mean=None, std=None)\n",
    "    ex_test_scalar = standardization(data=ex_test, mean=ex_mean, std=ex_std)\n",
    "\n",
    "    medv_train_scalar, m_mean, m_std = \\\n",
    "        standardization(medv_train, mean=None, std=None)\n",
    "    medv_test_scalar = standardization(medv_test, mean=m_mean, std=m_std)\n",
    "\n",
    "    # LASSO\n",
    "    clf = Lasso(alpha=alpha)\n",
    "    clf.fit(ex_train, medv_train_scalar)\n",
    "\n",
    "    # Predict\n",
    "    predict = clf.predict(ex_test_scalar)\n",
    "\n",
    "    # computer LOSS\n",
    "    print('{:15}'.format('mse'), ' : ',\n",
    "          compute_loss(ans=medv_test_scalar, pred=predict))\n",
    "\n",
    "    # Plot Graph\n",
    "    plot_graph(x=ex_train_scalar,\n",
    "               y=medv_train_scalar,\n",
    "               x_pred=ex_test_scalar,\n",
    "               y_pred=predict,\n",
    "               directory=directory)\n",
    "\n",
    "\n",
    "if __name__ == '__main__':\n",
    "    # ------------------------------------\n",
    "    # Params\n",
    "\n",
    "    lasso_alpha = 0.1\n",
    "    spirit_size = 0.2\n",
    "    print('*******************************************')\n",
    "    print('{:15}'.format('Alpha'), ' : ', lasso_alpha)\n",
    "    print('{:15}'.format('Spirit size'), ' : ', spirit_size)\n",
    "    # ------------------------------------\n",
    "    # Save Directory\n",
    "\n",
    "    save_directory = None\n",
    "    print('*******************************************')\n",
    "    print('{:15}'.format('Save Dir'), ' : ', save_directory)\n",
    "\n",
    "    # ------------------------------------\n",
    "    print('*******************************************')\n",
    "    lasso_return(alpha=lasso_alpha,\n",
    "                 test_size=spirit_size,\n",
    "                 directory=save_directory)\n",
    "    print('*******************************************')\n",
    "    print('Done')\n",
    "    print('*******************************************')\n",
    "\n"
   ]
  },
  {
   "cell_type": "code",
   "execution_count": 2,
   "metadata": {},
   "outputs": [
    {
     "data": {
      "text/plain": [
       "2"
      ]
     },
     "execution_count": 2,
     "metadata": {},
     "output_type": "execute_result"
    }
   ],
   "source": [
    "1+1"
   ]
  },
  {
   "cell_type": "code",
   "execution_count": 3,
   "metadata": {},
   "outputs": [],
   "source": [
    "x = 3"
   ]
  },
  {
   "cell_type": "code",
   "execution_count": 4,
   "metadata": {},
   "outputs": [
    {
     "data": {
      "text/plain": [
       "3"
      ]
     },
     "execution_count": 4,
     "metadata": {},
     "output_type": "execute_result"
    }
   ],
   "source": [
    "x"
   ]
  },
  {
   "cell_type": "code",
   "execution_count": null,
   "metadata": {},
   "outputs": [],
   "source": []
  }
 ],
 "metadata": {
  "kernelspec": {
   "display_name": "Python 3",
   "language": "python",
   "name": "python3"
  },
  "language_info": {
   "codemirror_mode": {
    "name": "ipython",
    "version": 3
   },
   "file_extension": ".py",
   "mimetype": "text/x-python",
   "name": "python",
   "nbconvert_exporter": "python",
   "pygments_lexer": "ipython3",
   "version": "3.7.6"
  }
 },
 "nbformat": 4,
 "nbformat_minor": 4
}
